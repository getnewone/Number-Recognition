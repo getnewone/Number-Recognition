{
 "cells": [
  {
   "attachments": {},
   "cell_type": "markdown",
   "metadata": {},
   "source": [
    "# Fatching the Datasets\n"
   ]
  },
  {
   "cell_type": "code",
   "execution_count": null,
   "metadata": {},
   "outputs": [],
   "source": [
    "from sklearn.datasets import fetch_openml\n",
    "import numpy as np\n",
    "import matplotlib.pyplot as plt\n",
    "from sklearn.linear_model import LogisticRegression\n",
    "from sklearn.metrics import accuracy_score, classification_report\n"
   ]
  },
  {
   "cell_type": "code",
   "execution_count": null,
   "metadata": {},
   "outputs": [],
   "source": [
    "# Load and prepare the data with proper error handling\n",
    "try:\n",
    "    mnist = fetch_openml(\"mnist_784\", as_frame=False, parser='auto')\n",
    "    X = mnist.data.astype('float32') / 255.  # Scale data to [0,1]\n",
    "    y = mnist.target.astype('int32')  # Convert labels to integers\n",
    "    \n",
    "    # Print shapes to verify data loading\n",
    "    print(\"Original data shapes:\")\n",
    "    print(f\"X shape: {X.shape}\")\n",
    "    print(f\"y shape: {y.shape}\")\n",
    "    \n",
    "    # Ensure we have enough samples before splitting\n",
    "    total_samples = len(X)\n",
    "    train_size = 60000  # Standard MNIST train size\n",
    "    \n",
    "    if total_samples >= train_size:\n",
    "        # Split the data properly\n",
    "        X_train = X[:train_size]\n",
    "        X_test = X[train_size:]\n",
    "        y_train = y[:train_size]\n",
    "        y_test = y[train_size:]\n",
    "        \n",
    "        # Create permutation for shuffling\n",
    "        shuffle_idx = np.random.RandomState(42).permutation(train_size)\n",
    "        \n",
    "        # Shuffle training data\n",
    "        X_train = X_train[shuffle_idx]\n",
    "        y_train = y_train[shuffle_idx]\n",
    "        \n",
    "        # Print shapes to verify splitting\n",
    "        print(\"\\nAfter splitting:\")\n",
    "        print(f\"X_train shape: {X_train.shape}\")\n",
    "        print(f\"X_test shape: {X_test.shape}\")\n",
    "        print(f\"y_train shape: {y_train.shape}\")\n",
    "        print(f\"y_test shape: {y_test.shape}\")\n",
    "        \n",
    "    else:\n",
    "        raise ValueError(f\"Not enough samples. Found {total_samples}, need at least {train_size}\")\n",
    "\n",
    "except Exception as e:\n",
    "    print(f\"Error: {e}\")\n",
    "    raise\n"
   ]
  },
  {
   "cell_type": "code",
   "execution_count": null,
   "metadata": {},
   "outputs": [],
   "source": [
    "# Create and train model with better parameters\n",
    "clf = LogisticRegression(\n",
    "    tol=0.1,\n",
    "    solver='saga',  # Better for multinomial and large datasets\n",
    "    multi_class='multinomial',\n",
    "    max_iter=200,\n",
    "    random_state=42\n",
    ")\n",
    "\n",
    "# Train model\n",
    "clf.fit(X_train, y_train)\n"
   ]
  },
  {
   "cell_type": "code",
   "execution_count": null,
   "metadata": {},
   "outputs": [],
   "source": [
    "# Evaluate model\n",
    "y_pred = clf.predict(X_test)\n",
    "print(f\"Test Accuracy: {accuracy_score(y_test, y_pred):.4f}\")\n",
    "print(\"\\nClassification Report:\")\n",
    "print(classification_report(y_test, y_pred))\n"
   ]
  },
  {
   "attachments": {},
   "cell_type": "markdown",
   "metadata": {},
   "source": [
    "## Function to predict and display digits"
   ]
  },
  {
   "cell_type": "code",
   "execution_count": null,
   "metadata": {},
   "outputs": [],
   "source": [
    "def predict_and_display(index):\n",
    "    digit = X[index].reshape(28, 28)\n",
    "    prediction = clf.predict([X[index]])[0]\n",
    "    \n",
    "    plt.figure(figsize=(4, 4))\n",
    "    plt.imshow(digit, cmap='binary')\n",
    "    plt.title(f'Predicted: {prediction}')\n",
    "    plt.axis('off')\n",
    "    plt.show()\n",
    "    \n",
    "# Test the function with a sample digit\n",
    "predict_and_display(69000)\n"
   ]
  }
 ],
 "metadata": {
  "kernelspec": {
   "display_name": "base",
   "language": "python",
   "name": "python3"
  },
  "language_info": {
   "codemirror_mode": {
    "name": "ipython",
    "version": 3
   },
   "file_extension": ".py",
   "mimetype": "text/x-python",
   "name": "python",
   "nbconvert_exporter": "python",
   "pygments_lexer": "ipython3",
   "version": "3.9.18"
  },
  "orig_nbformat": 4
 },
 "nbformat": 4,
 "nbformat_minor": 2
}
